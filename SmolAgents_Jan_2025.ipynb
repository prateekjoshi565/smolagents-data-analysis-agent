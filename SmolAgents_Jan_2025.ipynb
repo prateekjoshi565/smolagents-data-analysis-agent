{
  "nbformat": 4,
  "nbformat_minor": 0,
  "metadata": {
    "colab": {
      "provenance": []
    },
    "kernelspec": {
      "name": "python3",
      "display_name": "Python 3"
    },
    "language_info": {
      "name": "python"
    }
  },
  "cells": [
    {
      "cell_type": "markdown",
      "source": [
        "# Smolagents and DuckDB for Data Analysis"
      ],
      "metadata": {
        "id": "_L04sCdBTxsu"
      }
    },
    {
      "cell_type": "markdown",
      "source": [
        "Dataset - https://www.kaggle.com/datasets/ahmedmohamed2003/income-urban-vs-rural-for-each-county/data"
      ],
      "metadata": {
        "id": "YvvNiCBXpJjI"
      }
    },
    {
      "cell_type": "code",
      "execution_count": null,
      "metadata": {
        "id": "4vPHZHshG2yu"
      },
      "outputs": [],
      "source": [
        "!pip install smolagents -q"
      ]
    },
    {
      "cell_type": "code",
      "source": [
        "from smolagents import HfApiModel, CodeAgent\n",
        "from google.colab import userdata"
      ],
      "metadata": {
        "id": "fcIHs792QrKv"
      },
      "execution_count": null,
      "outputs": []
    },
    {
      "cell_type": "markdown",
      "source": [
        "## Import LLM"
      ],
      "metadata": {
        "id": "PvgA0c2tH5H-"
      }
    },
    {
      "cell_type": "code",
      "source": [
        "model = HfApiModel(model_id=\"Qwen/Qwen2.5-Coder-32B-Instruct\",\n",
        "                   token=userdata.get('HF_TOKEN'))\n",
        "\n",
        "# from smolagents import LiteLLMModel\n",
        "# model = LiteLLMModel(\"openrouter/deepseek/deepseek-chat\",\n",
        "#                      api_key = userdata.get('OPENROUTER_KEY'))"
      ],
      "metadata": {
        "id": "_mJwNT7MHdcx"
      },
      "execution_count": null,
      "outputs": []
    },
    {
      "cell_type": "markdown",
      "source": [
        "## Define AI agent config"
      ],
      "metadata": {
        "id": "VdUVzPubIFSG"
      }
    },
    {
      "cell_type": "code",
      "source": [
        "agent = CodeAgent(\n",
        "    tools=[],\n",
        "    model=model,\n",
        "    additional_authorized_imports=[\"duckdb\"]\n",
        ")"
      ],
      "metadata": {
        "id": "ipVexAIbH0z4"
      },
      "execution_count": null,
      "outputs": []
    },
    {
      "cell_type": "code",
      "source": [
        "prompt = \"\"\"\n",
        "You are a data analyst.\n",
        "Your job is to answer questions asked by the user\n",
        "about the given dataset, Income_Urban_VS_Rural.csv\n",
        "\n",
        "The file Income_Urban_VS_Rural.csv is located in the current working directory.\n",
        "\n",
        "## Data dictionary\n",
        "\n",
        "1. County: County name.\n",
        "2. State: State name.\n",
        "3. FIPS: Combined state and county FIPS code.\n",
        "4. State FIPS Code: State's Federal Information Processing Standard code.\n",
        "5. County FIPS Code: County's FIPS code.\n",
        "6. Total Population: Total population of the county.\n",
        "7. Household Income: Median household income for the county.\n",
        "8. Urban-Rural: Classification based on population (Urban or Rural).\n",
        "\n",
        "* You can use duckdb to query the data.\n",
        "\"\"\""
      ],
      "metadata": {
        "id": "As0BndU5INW7"
      },
      "execution_count": null,
      "outputs": []
    },
    {
      "cell_type": "markdown",
      "source": [
        "## Ask AI agent"
      ],
      "metadata": {
        "id": "XGKGA6L3TszN"
      }
    },
    {
      "cell_type": "code",
      "source": [
        "question = \"\"\"What is the average population size of urban counties\n",
        "compared to rural counties?\"\"\"\n",
        "\n",
        "agent.run(\n",
        "    prompt + \"\\n\" + question,\n",
        "    additional_args = dict(source_file=\"Income_Urban_VS_Rural.csv\")\n",
        ")"
      ],
      "metadata": {
        "id": "XIa2-c-pKmWq"
      },
      "execution_count": null,
      "outputs": []
    },
    {
      "cell_type": "code",
      "source": [
        "question = \"\"\"Find the top 5 rural counties interms of household income.\n",
        "Display these counties along with their household income.\"\"\"\n",
        "\n",
        "agent.run(\n",
        "    prompt + \"\\n\" + question,\n",
        "    additional_args = dict(source_file=\"Income_Urban_VS_Rural.csv\")\n",
        ")"
      ],
      "metadata": {
        "id": "zbmu40AeLNUB"
      },
      "execution_count": null,
      "outputs": []
    },
    {
      "cell_type": "code",
      "source": [],
      "metadata": {
        "id": "kIoAa0i5UOcJ"
      },
      "execution_count": null,
      "outputs": []
    }
  ]
}